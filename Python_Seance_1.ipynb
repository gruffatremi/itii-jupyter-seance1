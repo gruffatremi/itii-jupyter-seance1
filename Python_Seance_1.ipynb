{
 "cells": [
  {
   "cell_type": "code",
   "execution_count": 7,
   "metadata": {},
   "outputs": [
    {
     "name": "stdout",
     "output_type": "stream",
     "text": [
      "entre la valeur du rayon 2\n",
      "entree la valeur de la hauteur 6\n",
      "25.132741228718345\n"
     ]
    }
   ],
   "source": [
    "from math import * ; \n",
    "rayon = int(input(\"entre la valeur du rayon \")); \n",
    "hauteur = int(input(\"entree la valeur de la hauteur \"));\n",
    "volume = pi*rayon*rayon*(hauteur/3);\n",
    "print(volume);"
   ]
  },
  {
   "cell_type": "code",
   "execution_count": 1,
   "metadata": {},
   "outputs": [
    {
     "name": "stdout",
     "output_type": "stream",
     "text": [
      "Entrez votre valeur 5\n",
      "225\n"
     ]
    }
   ],
   "source": [
    "n = int(input(\"Entrez votre valeur \"));\n",
    "somme =0;\n",
    "i=0;\n",
    "while(i<=n):\n",
    "    somme+=i*i*i;\n",
    "    i+=1;\n",
    "print(somme);"
   ]
  },
  {
   "cell_type": "code",
   "execution_count": 4,
   "metadata": {},
   "outputs": [
    {
     "name": "stdout",
     "output_type": "stream",
     "text": [
      "Entrez votre valeur 5\n",
      "0\n",
      "1\n",
      "2\n",
      "3\n",
      "4\n",
      "5\n",
      "somme =15\n"
     ]
    }
   ],
   "source": [
    "n = int(input(\"Entrez votre valeur \"));\n",
    "x=range(n+1);\n",
    "print(\"somme =\"+str(sum(x)));"
   ]
  },
  {
   "cell_type": "code",
   "execution_count": null,
   "metadata": {},
   "outputs": [],
   "source": [
    "somme =0;\n",
    "for i in range (1000):\n",
    "    chaine=str(i);\n",
    "    somme+=chaine.count('1');\n",
    "print(somme);\n",
    "    "
   ]
  },
  {
   "cell_type": "code",
   "execution_count": 2,
   "metadata": {},
   "outputs": [
    {
     "name": "stdout",
     "output_type": "stream",
     "text": [
      "Entrez votre valeur 10\n",
      "1*10^1\n",
      "0*10^0\n"
     ]
    }
   ],
   "source": [
    "nombre = input(\"Entrez votre valeur \");\n",
    "taille= len(nombre);\n",
    "for i in range(taille):\n",
    "    print(nombre[i]+\"*10^\"+str(taille-i-1));\n"
   ]
  },
  {
   "cell_type": "code",
   "execution_count": null,
   "metadata": {},
   "outputs": [],
   "source": []
  }
 ],
 "metadata": {
  "kernelspec": {
   "display_name": "Python 3",
   "language": "python",
   "name": "python3"
  },
  "language_info": {
   "codemirror_mode": {
    "name": "ipython",
    "version": 3
   },
   "file_extension": ".py",
   "mimetype": "text/x-python",
   "name": "python",
   "nbconvert_exporter": "python",
   "pygments_lexer": "ipython3",
   "version": "3.7.0"
  }
 },
 "nbformat": 4,
 "nbformat_minor": 2
}
